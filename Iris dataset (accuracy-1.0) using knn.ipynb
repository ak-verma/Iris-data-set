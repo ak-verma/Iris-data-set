{
 "cells": [
  {
   "cell_type": "markdown",
   "metadata": {},
   "source": [
    "# Iris Dataset"
   ]
  },
  {
   "cell_type": "code",
   "execution_count": null,
   "metadata": {
    "collapsed": true
   },
   "outputs": [],
   "source": [
    "#loading the iris dataset and checking the type\n",
    "from sklearn.datasets import load_iris\n",
    "iris=load_iris()\n",
    "type(iris)\n",
    "\n",
    "#printing the names of the features and target\n",
    "print(iris.feature_names,iris.target_names)\n",
    "\n",
    "#looking at iris dataset\n",
    "print(iris.data,iris.target)\n",
    "\n",
    "#looking at the shape of the features and target\n",
    "print (iris.data.shape,iris.target.shape)\n",
    "\n",
    "#putting the data in X and target in y for simplicity\n",
    "X= iris.data\n",
    "y= iris.target\n",
    "\n",
    "#importing knn an using it\n",
    "from sklearn.neighbors import KNeighborsClassifier\n",
    "knn=KNeighborsClassifier(n_neighbors=3)\n",
    "\n",
    "#importing the train_test_split for splitting the data and training it\n",
    "from sklearn.model_selection import train_test_split as tts\n",
    "\n",
    "#Applying the tts and then fitting the training set to the model and the looking at how well the model is on test set \n",
    "X_train,X_test,y_train,y_test=tts(X,y,test_size=0.2,random_state=42)\n",
    "knn_fit=knn.fit(X_train,y_train)\n",
    "knn_fit.score(X_test,y_test)"
   ]
  }
 ],
 "metadata": {
  "anaconda-cloud": {},
  "kernelspec": {
   "display_name": "Python 3",
   "language": "python",
   "name": "python3"
  },
  "language_info": {
   "codemirror_mode": {
    "name": "ipython",
    "version": 3
   },
   "file_extension": ".py",
   "mimetype": "text/x-python",
   "name": "python",
   "nbconvert_exporter": "python",
   "pygments_lexer": "ipython3",
   "version": "3.6.3"
  }
 },
 "nbformat": 4,
 "nbformat_minor": 1
}
